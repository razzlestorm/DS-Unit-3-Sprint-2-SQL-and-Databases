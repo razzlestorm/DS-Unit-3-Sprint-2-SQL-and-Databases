{
  "nbformat": 4,
  "nbformat_minor": 0,
  "metadata": {
    "colab": {
      "name": "Unit_3_Sprint_2_Homework_1.ipynb",
      "provenance": [],
      "collapsed_sections": [],
      "include_colab_link": true
    },
    "kernelspec": {
      "name": "python3",
      "display_name": "Python 3"
    }
  },
  "cells": [
    {
      "cell_type": "markdown",
      "metadata": {
        "id": "view-in-github",
        "colab_type": "text"
      },
      "source": [
        "<a href=\"https://colab.research.google.com/github/razzlestorm/DS-Unit-3-Sprint-2-SQL-and-Databases/blob/master/module1-introduction-to-sql/Unit_3_Sprint_2_Homework_1.ipynb\" target=\"_parent\"><img src=\"https://colab.research.google.com/assets/colab-badge.svg\" alt=\"Open In Colab\"/></a>"
      ]
    },
    {
      "cell_type": "code",
      "metadata": {
        "id": "g4Hyc7C0pSvE",
        "colab_type": "code",
        "colab": {
          "base_uri": "https://localhost:8080/",
          "height": 353
        },
        "outputId": "9000bf44-2b7c-40df-db40-44a28ae52b00"
      },
      "source": [
        "import pandas as pd\n",
        "import sqlite3\n",
        "\n",
        "!wget https://github.com/razzlestorm/DS-Unit-3-Sprint-2-SQL-and-Databases/blob/master/module1-introduction-to-sql/rpg_db.sqlite3?raw=true"
      ],
      "execution_count": 14,
      "outputs": [
        {
          "output_type": "stream",
          "text": [
            "--2019-11-16 00:56:03--  https://github.com/razzlestorm/DS-Unit-3-Sprint-2-SQL-and-Databases/blob/master/module1-introduction-to-sql/rpg_db.sqlite3?raw=true\n",
            "Resolving github.com (github.com)... 140.82.113.4\n",
            "Connecting to github.com (github.com)|140.82.113.4|:443... connected.\n",
            "HTTP request sent, awaiting response... 302 Found\n",
            "Location: https://github.com/razzlestorm/DS-Unit-3-Sprint-2-SQL-and-Databases/raw/master/module1-introduction-to-sql/rpg_db.sqlite3 [following]\n",
            "--2019-11-16 00:56:04--  https://github.com/razzlestorm/DS-Unit-3-Sprint-2-SQL-and-Databases/raw/master/module1-introduction-to-sql/rpg_db.sqlite3\n",
            "Reusing existing connection to github.com:443.\n",
            "HTTP request sent, awaiting response... 302 Found\n",
            "Location: https://raw.githubusercontent.com/razzlestorm/DS-Unit-3-Sprint-2-SQL-and-Databases/master/module1-introduction-to-sql/rpg_db.sqlite3 [following]\n",
            "--2019-11-16 00:56:04--  https://raw.githubusercontent.com/razzlestorm/DS-Unit-3-Sprint-2-SQL-and-Databases/master/module1-introduction-to-sql/rpg_db.sqlite3\n",
            "Resolving raw.githubusercontent.com (raw.githubusercontent.com)... 151.101.0.133, 151.101.64.133, 151.101.128.133, ...\n",
            "Connecting to raw.githubusercontent.com (raw.githubusercontent.com)|151.101.0.133|:443... connected.\n",
            "HTTP request sent, awaiting response... 200 OK\n",
            "Length: 253952 (248K) [application/octet-stream]\n",
            "Saving to: ‘rpg_db.sqlite3?raw=true’\n",
            "\n",
            "rpg_db.sqlite3?raw= 100%[===================>] 248.00K  --.-KB/s    in 0.05s   \n",
            "\n",
            "2019-11-16 00:56:06 (4.72 MB/s) - ‘rpg_db.sqlite3?raw=true’ saved [253952/253952]\n",
            "\n"
          ],
          "name": "stdout"
        }
      ]
    },
    {
      "cell_type": "code",
      "metadata": {
        "id": "Bz_b3emVpdBq",
        "colab_type": "code",
        "colab": {}
      },
      "source": [
        "conn = sqlite3.connect('/content/rpg_db.sqlite3?raw=true')\n",
        "cur = conn.cursor()\n",
        "\n",
        "def print_data(query):\n",
        "    cur.execute(query)\n",
        "    return cur.fetchall()[0][0]"
      ],
      "execution_count": 0,
      "outputs": []
    },
    {
      "cell_type": "code",
      "metadata": {
        "id": "jSnWXKP2prws",
        "colab_type": "code",
        "colab": {
          "base_uri": "https://localhost:8080/",
          "height": 34
        },
        "outputId": "3a72cd18-5919-4739-a197-da93de201e02"
      },
      "source": [
        "# How many total Characters are there?\n",
        "query = \"\"\"\n",
        "SELECT COUNT(character_id)\n",
        "FROM charactercreator_character\n",
        "\"\"\"\n",
        "print_data(query)"
      ],
      "execution_count": 55,
      "outputs": [
        {
          "output_type": "execute_result",
          "data": {
            "text/plain": [
              "302"
            ]
          },
          "metadata": {
            "tags": []
          },
          "execution_count": 55
        }
      ]
    },
    {
      "cell_type": "code",
      "metadata": {
        "id": "W4mHgwwnqG43",
        "colab_type": "code",
        "colab": {
          "base_uri": "https://localhost:8080/",
          "height": 101
        },
        "outputId": "85ad436d-5584-41df-f1bb-a63ad9a2db06"
      },
      "source": [
        "# How many of each specific subclass?\n",
        "\n",
        "class_list = ['charactercreator_cleric', 'charactercreator_fighter', 'charactercreator_mage', 'charactercreator_necromancer', 'charactercreator_thief']\n",
        "\n",
        "def sql_table_count_loop(li):\n",
        "    for xx in li:\n",
        "        query = \"\"\"\n",
        "        SELECT COUNT(*)\n",
        "        FROM {}\n",
        "        \"\"\".format(xx)\n",
        "        cur.execute(query)\n",
        "        print(f'The {xx[17:]} class has {cur.fetchall()[0][0]} rows.')\n",
        "\n",
        "sql_table_count_loop(class_list)\n"
      ],
      "execution_count": 62,
      "outputs": [
        {
          "output_type": "stream",
          "text": [
            "The cleric class has 75 rows.\n",
            "The fighter class has 68 rows.\n",
            "The mage class has 108 rows.\n",
            "The necromancer class has 11 rows.\n",
            "The thief class has 51 rows.\n"
          ],
          "name": "stdout"
        }
      ]
    },
    {
      "cell_type": "code",
      "metadata": {
        "id": "pao3Ba53qIGL",
        "colab_type": "code",
        "colab": {
          "base_uri": "https://localhost:8080/",
          "height": 34
        },
        "outputId": "1af86e11-f773-4d96-f84b-944983366a46"
      },
      "source": [
        "# How many total Items?\n",
        "\n",
        "item_count = \"\"\"\n",
        "SELECT COUNT(*)\n",
        "FROM armory_item\n",
        "\"\"\"\n",
        "print_data(item_count)"
      ],
      "execution_count": 58,
      "outputs": [
        {
          "output_type": "execute_result",
          "data": {
            "text/plain": [
              "174"
            ]
          },
          "metadata": {
            "tags": []
          },
          "execution_count": 58
        }
      ]
    },
    {
      "cell_type": "code",
      "metadata": {
        "id": "38OkianAqJAJ",
        "colab_type": "code",
        "colab": {
          "base_uri": "https://localhost:8080/",
          "height": 50
        },
        "outputId": "3ee0efa2-0858-48fb-b6fc-57d99342777f"
      },
      "source": [
        "# How many of the Items are weapons? How many are not?\n",
        "\n",
        "weapon_count = \"\"\"\n",
        "SELECT COUNT(item_id)\n",
        "FROM armory_item\n",
        "WHERE item_id IN (SELECT item_ptr_id FROM armory_weapon aw)\n",
        "\"\"\"\n",
        "\n",
        "non_weapon_count = \"\"\"\n",
        "SELECT COUNT(item_id)\n",
        "FROM armory_item\n",
        "WHERE item_id NOT IN (SELECT item_ptr_id FROM armory_weapon aw)\n",
        "\"\"\"\n",
        "\n",
        "print(print_data(weapon_count))\n",
        "print(print_data(non_weapon_count))"
      ],
      "execution_count": 59,
      "outputs": [
        {
          "output_type": "stream",
          "text": [
            "37\n",
            "137\n"
          ],
          "name": "stdout"
        }
      ]
    },
    {
      "cell_type": "code",
      "metadata": {
        "id": "QaJzM3YyqJ77",
        "colab_type": "code",
        "colab": {
          "base_uri": "https://localhost:8080/",
          "height": 353
        },
        "outputId": "f373a70b-794c-44d4-8f32-1c558fb6206a"
      },
      "source": [
        "# How many Items does each character have? (Return first 20 rows)\n",
        "\n",
        "\n",
        "character_item_count = \"\"\"\n",
        "SELECT character_id, COUNT(item_id)\n",
        "FROM charactercreator_character_inventory\n",
        "WHERE item_id NOT IN (SELECT item_ptr_id FROM armory_weapon aw)\n",
        "GROUP BY character_id\n",
        "LIMIT 20\n",
        "\"\"\"\n",
        "\n",
        "cur.execute(character_item_count)\n",
        "cur.fetchall()\n",
        "\n"
      ],
      "execution_count": 73,
      "outputs": [
        {
          "output_type": "execute_result",
          "data": {
            "text/plain": [
              "[(1, 3),\n",
              " (2, 3),\n",
              " (3, 2),\n",
              " (4, 4),\n",
              " (5, 2),\n",
              " (6, 1),\n",
              " (7, 4),\n",
              " (8, 3),\n",
              " (9, 4),\n",
              " (10, 4),\n",
              " (11, 2),\n",
              " (12, 3),\n",
              " (13, 4),\n",
              " (14, 4),\n",
              " (15, 4),\n",
              " (16, 1),\n",
              " (17, 5),\n",
              " (18, 5),\n",
              " (19, 3),\n",
              " (21, 4)]"
            ]
          },
          "metadata": {
            "tags": []
          },
          "execution_count": 73
        }
      ]
    },
    {
      "cell_type": "code",
      "metadata": {
        "id": "Wy0zHJ5kqLAD",
        "colab_type": "code",
        "colab": {
          "base_uri": "https://localhost:8080/",
          "height": 353
        },
        "outputId": "44caa5d6-cc17-454b-cfe6-ae15e8102105"
      },
      "source": [
        "# How many Weapons does each character have? (Return first 20 rows)\n",
        "\n",
        "character_weapon_count = \"\"\"\n",
        "SELECT character_id, COUNT(item_id)\n",
        "FROM charactercreator_character_inventory\n",
        "WHERE item_id IN (SELECT item_ptr_id FROM armory_weapon aw)\n",
        "GROUP BY character_id\n",
        "LIMIT 20\n",
        "\"\"\"\n",
        "\n",
        "cur.execute(character_weapon_count)\n",
        "cur.fetchall()\n",
        "\n"
      ],
      "execution_count": 74,
      "outputs": [
        {
          "output_type": "execute_result",
          "data": {
            "text/plain": [
              "[(5, 2),\n",
              " (7, 1),\n",
              " (11, 1),\n",
              " (20, 1),\n",
              " (22, 1),\n",
              " (23, 1),\n",
              " (26, 1),\n",
              " (27, 3),\n",
              " (29, 2),\n",
              " (30, 1),\n",
              " (32, 1),\n",
              " (34, 1),\n",
              " (35, 2),\n",
              " (36, 3),\n",
              " (37, 2),\n",
              " (38, 2),\n",
              " (39, 2),\n",
              " (40, 1),\n",
              " (41, 1),\n",
              " (47, 1)]"
            ]
          },
          "metadata": {
            "tags": []
          },
          "execution_count": 74
        }
      ]
    },
    {
      "cell_type": "code",
      "metadata": {
        "id": "80fA6HlPqL7L",
        "colab_type": "code",
        "colab": {
          "base_uri": "https://localhost:8080/",
          "height": 34
        },
        "outputId": "c4580c61-7f02-42c0-e2ec-7cbaa09193b8"
      },
      "source": [
        "# On average, how many Items does each Character have?\n",
        "character_avg_items = \"\"\"\n",
        "SELECT AVG(counted_items)\n",
        "FROM (\n",
        "SELECT COUNT(item_id) as counted_items\n",
        "FROM charactercreator_character_inventory\n",
        "WHERE item_id NOT IN (SELECT item_ptr_id FROM armory_weapon aw)\n",
        "GROUP BY character_id\n",
        ")\n",
        "\"\"\"\n",
        "\n",
        "cur.execute(character_avg_items)\n",
        "cur.fetchall()\n"
      ],
      "execution_count": 75,
      "outputs": [
        {
          "output_type": "execute_result",
          "data": {
            "text/plain": [
              "[(2.43859649122807,)]"
            ]
          },
          "metadata": {
            "tags": []
          },
          "execution_count": 75
        }
      ]
    },
    {
      "cell_type": "code",
      "metadata": {
        "id": "K6LDoQ9JqMxc",
        "colab_type": "code",
        "colab": {
          "base_uri": "https://localhost:8080/",
          "height": 34
        },
        "outputId": "d30cda38-4518-4d16-c1cc-041ba62c70f6"
      },
      "source": [
        "# On average, how many Weapons does each character have?\n",
        "character_avg_weapons = \"\"\"\n",
        "SELECT AVG(counted_items)\n",
        "FROM (\n",
        "SELECT COUNT(item_id) as counted_items\n",
        "FROM charactercreator_character_inventory\n",
        "WHERE item_id IN (SELECT item_ptr_id FROM armory_weapon aw)\n",
        "GROUP BY character_id\n",
        ")\n",
        "\"\"\"\n",
        "\n",
        "cur.execute(character_avg_weapons)\n",
        "cur.fetchall()"
      ],
      "execution_count": 76,
      "outputs": [
        {
          "output_type": "execute_result",
          "data": {
            "text/plain": [
              "[(1.3096774193548386,)]"
            ]
          },
          "metadata": {
            "tags": []
          },
          "execution_count": 76
        }
      ]
    },
    {
      "cell_type": "code",
      "metadata": {
        "id": "CdsNiFIietdB",
        "colab_type": "code",
        "outputId": "331b3e0d-cda3-48dc-e2dd-fa4c1407eaa6",
        "colab": {
          "base_uri": "https://localhost:8080/",
          "height": 195
        }
      },
      "source": [
        "df = pd.read_csv('https://archive.ics.uci.edu/ml/machine-learning-databases/00476/buddymove_holidayiq.csv')\n",
        "df.head()"
      ],
      "execution_count": 88,
      "outputs": [
        {
          "output_type": "execute_result",
          "data": {
            "text/html": [
              "<div>\n",
              "<style scoped>\n",
              "    .dataframe tbody tr th:only-of-type {\n",
              "        vertical-align: middle;\n",
              "    }\n",
              "\n",
              "    .dataframe tbody tr th {\n",
              "        vertical-align: top;\n",
              "    }\n",
              "\n",
              "    .dataframe thead th {\n",
              "        text-align: right;\n",
              "    }\n",
              "</style>\n",
              "<table border=\"1\" class=\"dataframe\">\n",
              "  <thead>\n",
              "    <tr style=\"text-align: right;\">\n",
              "      <th></th>\n",
              "      <th>User Id</th>\n",
              "      <th>Sports</th>\n",
              "      <th>Religious</th>\n",
              "      <th>Nature</th>\n",
              "      <th>Theatre</th>\n",
              "      <th>Shopping</th>\n",
              "      <th>Picnic</th>\n",
              "    </tr>\n",
              "  </thead>\n",
              "  <tbody>\n",
              "    <tr>\n",
              "      <th>0</th>\n",
              "      <td>User 1</td>\n",
              "      <td>2</td>\n",
              "      <td>77</td>\n",
              "      <td>79</td>\n",
              "      <td>69</td>\n",
              "      <td>68</td>\n",
              "      <td>95</td>\n",
              "    </tr>\n",
              "    <tr>\n",
              "      <th>1</th>\n",
              "      <td>User 2</td>\n",
              "      <td>2</td>\n",
              "      <td>62</td>\n",
              "      <td>76</td>\n",
              "      <td>76</td>\n",
              "      <td>69</td>\n",
              "      <td>68</td>\n",
              "    </tr>\n",
              "    <tr>\n",
              "      <th>2</th>\n",
              "      <td>User 3</td>\n",
              "      <td>2</td>\n",
              "      <td>50</td>\n",
              "      <td>97</td>\n",
              "      <td>87</td>\n",
              "      <td>50</td>\n",
              "      <td>75</td>\n",
              "    </tr>\n",
              "    <tr>\n",
              "      <th>3</th>\n",
              "      <td>User 4</td>\n",
              "      <td>2</td>\n",
              "      <td>68</td>\n",
              "      <td>77</td>\n",
              "      <td>95</td>\n",
              "      <td>76</td>\n",
              "      <td>61</td>\n",
              "    </tr>\n",
              "    <tr>\n",
              "      <th>4</th>\n",
              "      <td>User 5</td>\n",
              "      <td>2</td>\n",
              "      <td>98</td>\n",
              "      <td>54</td>\n",
              "      <td>59</td>\n",
              "      <td>95</td>\n",
              "      <td>86</td>\n",
              "    </tr>\n",
              "  </tbody>\n",
              "</table>\n",
              "</div>"
            ],
            "text/plain": [
              "  User Id  Sports  Religious  Nature  Theatre  Shopping  Picnic\n",
              "0  User 1       2         77      79       69        68      95\n",
              "1  User 2       2         62      76       76        69      68\n",
              "2  User 3       2         50      97       87        50      75\n",
              "3  User 4       2         68      77       95        76      61\n",
              "4  User 5       2         98      54       59        95      86"
            ]
          },
          "metadata": {
            "tags": []
          },
          "execution_count": 88
        }
      ]
    },
    {
      "cell_type": "code",
      "metadata": {
        "id": "KiTm2xr97QgT",
        "colab_type": "code",
        "colab": {
          "base_uri": "https://localhost:8080/",
          "height": 50
        },
        "outputId": "295ae380-ec09-43de-c48f-a99d343bad56"
      },
      "source": [
        "conn_new = sqlite3.connect('buddymove_holidayiq.sqlite3')\n",
        "\n",
        "df2 = df.to_sql('my_table', conn_new)"
      ],
      "execution_count": 80,
      "outputs": [
        {
          "output_type": "stream",
          "text": [
            "/usr/local/lib/python3.6/dist-packages/pandas/core/generic.py:2712: UserWarning: The spaces in these column names will not be changed. In pandas versions < 0.14, spaces were converted to underscores.\n",
            "  method=method,\n"
          ],
          "name": "stderr"
        }
      ]
    },
    {
      "cell_type": "code",
      "metadata": {
        "id": "OnfGovYD8SfD",
        "colab_type": "code",
        "colab": {}
      },
      "source": [
        "newcur = conn_new.cursor()"
      ],
      "execution_count": 0,
      "outputs": []
    },
    {
      "cell_type": "code",
      "metadata": {
        "id": "oRh_pAuj8gpN",
        "colab_type": "code",
        "colab": {
          "base_uri": "https://localhost:8080/",
          "height": 34
        },
        "outputId": "f4623d67-b6e1-4e0b-ecb3-28483c8d01ee"
      },
      "source": [
        "newcur.execute('SELECT * FROM my_table')\n",
        "print(newcur.fetchall()[0][6]) # 4= Nature, 6= Shopping"
      ],
      "execution_count": 94,
      "outputs": [
        {
          "output_type": "stream",
          "text": [
            "68\n"
          ],
          "name": "stdout"
        }
      ]
    },
    {
      "cell_type": "code",
      "metadata": {
        "id": "BD2OD4Ua8sub",
        "colab_type": "code",
        "colab": {
          "base_uri": "https://localhost:8080/",
          "height": 34
        },
        "outputId": "7bcbec95-a0c4-4ed9-e1a0-18b7938a6f81"
      },
      "source": [
        "row_query = \"\"\"\n",
        "SELECT COUNT(*)\n",
        "FROM\n",
        "(SELECT *\n",
        "FROM my_table\n",
        "WHERE Nature >= 100)\n",
        "WHERE Shopping >= 100\n",
        "\"\"\"\n",
        "\n",
        "newcur.execute(row_query)\n",
        "newcur.fetchall()"
      ],
      "execution_count": 111,
      "outputs": [
        {
          "output_type": "execute_result",
          "data": {
            "text/plain": [
              "[(78,)]"
            ]
          },
          "metadata": {
            "tags": []
          },
          "execution_count": 111
        }
      ]
    }
  ]
}